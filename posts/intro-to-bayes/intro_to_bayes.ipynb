{
 "cells": [
  {
   "cell_type": "markdown",
   "id": "905f9465",
   "metadata": {},
   "source": [
    "---\n",
    "title: \"An Introduction To Bayesian Statistics\"\n",
    "author: \"Brandon Scott\"\n",
    "date: \"2022-12-24\"\n",
    "category: \"[analysis, bayesian]\"\n",
    "format:\n",
    "    html:\n",
    "        code-fold: true\n",
    "jupyter: python3\n",
    "---"
   ]
  },
  {
   "cell_type": "markdown",
   "id": "b9a6cbc3",
   "metadata": {},
   "source": [
    "# TL;DR"
   ]
  },
  {
   "cell_type": "markdown",
   "id": "c1891004",
   "metadata": {},
   "source": [
    "Statistics has long been a subject of great debate because of the way it is implmented. Due to \"arbitrary\" rules or guidelines that the academic community or business organizations follow in this field, it can be easy to be confused as to why certain numbers matter, if results from experiments actually have genuine impact, and how can we improve of the results we obtained. As well, what do we do when a test results contradicts what a subject matter expert says they expected to happen? Bayesian methods attempt to clear the confusion surrounding statistics. Bayesian methods allow us to incorporate our own knowledge into statistical modeling practices to properly draw conclusions from data. From those conclusions, we can gain direction and insight on what kind of decisions to make to better guide an organization. "
   ]
  },
  {
   "cell_type": "markdown",
   "id": "c682fd94",
   "metadata": {},
   "source": [
    "# Introduction: A New Place"
   ]
  },
  {
   "cell_type": "markdown",
   "id": "17a503d7",
   "metadata": {},
   "source": [
    "<center><img src=\"https://www.metrotransit.org/Data/Sites/1/media/buses/MetroTransit-HybridbusL.jpg\"></center>"
   ]
  },
  {
   "cell_type": "markdown",
   "id": "ef04b00b",
   "metadata": {},
   "source": [
    "Suppose you just moved to a new town. In this town, you would like to take advantage of the public bus system to get to work. You look up online information about the nearest station to you and see that the first bus arrives at 7:00am and there should be subsequent buses every 15 minutes. "
   ]
  },
  {
   "cell_type": "code",
   "execution_count": null,
   "id": "d9ec2cef",
   "metadata": {},
   "outputs": [],
   "source": []
  }
 ],
 "metadata": {
  "kernelspec": {
   "display_name": "Python 3 (ipykernel)",
   "language": "python",
   "name": "python3"
  },
  "language_info": {
   "codemirror_mode": {
    "name": "ipython",
    "version": 3
   },
   "file_extension": ".py",
   "mimetype": "text/x-python",
   "name": "python",
   "nbconvert_exporter": "python",
   "pygments_lexer": "ipython3",
   "version": "3.9.13"
  }
 },
 "nbformat": 4,
 "nbformat_minor": 5
}
