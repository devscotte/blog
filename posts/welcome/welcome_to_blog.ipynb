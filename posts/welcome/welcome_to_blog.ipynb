{
 "cells": [
  {
   "cell_type": "markdown",
   "id": "b38b0691",
   "metadata": {},
   "source": [
    "---\n",
    "title: \"Welcome to my blog!\"\n",
    "author: \"Brandon Scott\"\n",
    "date: \"2023-03-06\"\n",
    "categories: [welcome, bayesian]\n",
    "format:\n",
    "    html:\n",
    "        code-fold: true\n",
    "image: thumbnail.jpg\n",
    "jupyter: python3\n",
    "---"
   ]
  },
  {
   "cell_type": "markdown",
   "id": "fcd517cc",
   "metadata": {},
   "source": [
    "# TL;DR"
   ]
  },
  {
   "cell_type": "markdown",
   "id": "37325885",
   "metadata": {},
   "source": [
    "Welcome to Bayesian Business! This blog focuses on the use of statistics, particularly bayesian statistics, in the application of business problems. In this post, we review the necessary math background in order to understand future blog posts. As well, we establish expectations for future blog posts and the order in which they are shared. "
   ]
  },
  {
   "cell_type": "markdown",
   "id": "291b9dde",
   "metadata": {},
   "source": [
    "# Welcome To Bayesian Business"
   ]
  },
  {
   "cell_type": "markdown",
   "id": "fdd8d2dc",
   "metadata": {},
   "source": [
    "Welcome to my blog! If you are reading this, I hope that means you are excited about learning statistics as I am about teaching it (and continuing to learn it!). This blog, honestly, is mostly a tool for me to improve my own knowledge in statistics by learning how I would convey it to others. I plan on doing this from a data analysis perspective. Given a certain situation/set of data points, how do we construct the problems we want to solve and implement proper solutions. Particularly, I hope to demonstrate that Bayesian methods can be viable methods to solve problems in business, healthcare, etc. Anyways, I hope you find this blog interesting and useful in your data career. Whether you are just entering data or are an experienced data professional, this blog intends to be a resource in demonstrating good data analysis with sound applied mathematical theory."
   ]
  },
  {
   "cell_type": "markdown",
   "id": "9a9a166e",
   "metadata": {},
   "source": [
    "# Prerequisites"
   ]
  },
  {
   "cell_type": "markdown",
   "id": "ab1fa904",
   "metadata": {},
   "source": [
    "While I did mention above that this blog is intended to be useful for beginners and experts alike, I will admit that I will be covering some higher level math, such as:\n",
    "- Multivariate Calculus\n",
    "- Linear Algebra\n",
    "- Probability Theory"
   ]
  },
  {
   "cell_type": "markdown",
   "id": "1282f17c",
   "metadata": {},
   "source": [
    "For example, suppose we are studying a dataset with a variable that is modeled as an exponential random variable, we would use the below notation to show the probability density function (PDF)"
   ]
  },
  {
   "cell_type": "markdown",
   "id": "63cbf6f9",
   "metadata": {},
   "source": [
    "\\begin{equation}\n",
    "\\int_{0}^{\\infty} \\lambda e^{\\lambda x} \\,dx\n",
    "\\end{equation}\n",
    "\n",
    "\\begin{equation}\n",
    "X \\sim Exponential(\\lambda)\n",
    "\\end{equation}"
   ]
  },
  {
   "cell_type": "markdown",
   "id": "229a0f0b",
   "metadata": {},
   "source": [
    "Or, the important Bayes Theorem found below."
   ]
  },
  {
   "cell_type": "markdown",
   "id": "cb59b936",
   "metadata": {},
   "source": [
    "\\begin{equation}\n",
    "P(A|B) = \\frac{P(B|A) P(A)}{P(B)}\n",
    "\\end{equation}"
   ]
  },
  {
   "cell_type": "markdown",
   "id": "16eef83c",
   "metadata": {},
   "source": [
    "Don't be discourage if the above formulas don't make sense right now. In each post that these appear, I will breakdown what they mean and their applicability in solving our problem."
   ]
  },
  {
   "cell_type": "markdown",
   "id": "3f96aa2c",
   "metadata": {},
   "source": [
    "# Expectations"
   ]
  },
  {
   "cell_type": "markdown",
   "id": "0d19d984",
   "metadata": {},
   "source": [
    "The hope of this blog is to present statistics in the form of a data analysis case. For example, let's say you are a host on AirBnB and want to maximize the number of nights you rent out. How do you properly price your rental given certain parameters (size, geographic setting, etc). We would then present the data points and walk through an analysis of the data by doing the following.\n",
    "\n",
    "1. Exploring the data (EDA) to get to know our dataset\n",
    "2. Constructing a mathematical framework that can fit our data\n",
    "3. Fit our data to said framework \n",
    "4. Gather inference from our model\n",
    "5. Review answers explained by our model\n",
    "6. Explain possible enhancements to our model for future analyses"
   ]
  },
  {
   "cell_type": "markdown",
   "id": "7773dec3",
   "metadata": {},
   "source": [
    "This will be our attempted framework to blog posts. I hope that by tackling problems in this way, analytical toolbox will grow and our ability to construct measurable problems from our data will improve. **This is the ultimate goal of this blog**. I really hope that people will recognize this blog as an **opportunity to learn how to think analytically**.  "
   ]
  },
  {
   "cell_type": "markdown",
   "id": "e33d45bc",
   "metadata": {},
   "source": [
    "# Let's do this"
   ]
  },
  {
   "cell_type": "markdown",
   "id": "2a3e36dd",
   "metadata": {},
   "source": [
    "I just want to reiterate that I am excited to learn how to be a better analyst with you by getting to know the math that drives our analytics. I am very passionate about how data can be used to properly drive decision making in organizations and I hope that this blog motivates you to do the same."
   ]
  }
 ],
 "metadata": {
  "kernelspec": {
   "display_name": "Python 3 (ipykernel)",
   "language": "python",
   "name": "python3"
  },
  "language_info": {
   "codemirror_mode": {
    "name": "ipython",
    "version": 3
   },
   "file_extension": ".py",
   "mimetype": "text/x-python",
   "name": "python",
   "nbconvert_exporter": "python",
   "pygments_lexer": "ipython3",
   "version": "3.9.13"
  }
 },
 "nbformat": 4,
 "nbformat_minor": 5
}
